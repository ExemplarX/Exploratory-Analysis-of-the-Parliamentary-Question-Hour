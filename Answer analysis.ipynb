{
 "cells": [
  {
   "cell_type": "code",
   "execution_count": 2,
   "id": "83676d58",
   "metadata": {},
   "outputs": [],
   "source": [
    "import csv\n",
    "import json\n",
    "import pandas as pd\n",
    "\n",
    "csv_file_path = 'TCPD QnA.csv'\n",
    "json_file_path = 'Qna.json'\n",
    "\n",
    "# Read CSV file\n",
    "data = []\n",
    "with open(csv_file_path, 'r') as csv_file:\n",
    "    csv_reader = csv.DictReader(csv_file)\n",
    "    for row in csv_reader:\n",
    "        data.append(row)\n",
    "\n",
    "# Convert CSV data to JSON\n",
    "json_data = json.dumps(data, indent=4)\n",
    "\n",
    "# Save JSON data to a file\n",
    "with open(json_file_path, 'w') as json_file:\n",
    "    json_file.write(json_data)"
   ]
  },
  {
   "cell_type": "code",
   "execution_count": 3,
   "id": "5dcb5eb8",
   "metadata": {},
   "outputs": [
    {
     "name": "stdout",
     "output_type": "stream",
     "text": [
      "       ï»¿ls_number                                  ministry  \\\n",
      "0                13                          External Affairs   \n",
      "1                13                          External Affairs   \n",
      "2                13                            Communications   \n",
      "3                13  Personnel,public Grievances and Pensions   \n",
      "4                13                             Atomic Energy   \n",
      "...             ...                                       ...   \n",
      "298432           16   Statistics and Programme Implementation   \n",
      "298433           16                                  Railways   \n",
      "298434           16                                  Railways   \n",
      "298435           16                                  Railways   \n",
      "298436           16                           Law and Justice   \n",
      "\n",
      "                                            question_text  \\\n",
      "0       (a) whether Mutual legal Assistance Treaty has...   \n",
      "1       (a) whether there is any proposal to set up a ...   \n",
      "2       (a) whether MTNL has introduced the `Garuda` c...   \n",
      "3       (a) whether the Government proposed to revoke ...   \n",
      "4       (a) whether the uranium reserves are likely to...   \n",
      "...                                                   ...   \n",
      "298432  (a) whether there is any data sharing policy w...   \n",
      "298433  (a) the present status of various ongoing rail...   \n",
      "298434  (a) whether the Government has tried to assess...   \n",
      "298435  (a) whether the Government has received recomm...   \n",
      "298436  (a) the details of number of cases pending in ...   \n",
      "\n",
      "                                              answer_text  \n",
      "0       MINISTER OF EXTERNAL AFFAIRS (SHRI JASWANT SIN...  \n",
      "1       THE MINISTER OF EXTERNAL AFFAIRS (SHRI JASWANT...  \n",
      "2       THE MINISTER OF STATE IN THE MINISTRY OF COMMU...  \n",
      "3       THE MINISTER OF STATE OF THE MINISTRY OF SMALL...  \n",
      "4       THE MINISTER OF STATE IN THE MINISTRY OF SMALL...  \n",
      "...                                                   ...  \n",
      "298432  MINISTER OF STATE IN THE MINISTRY OF STATISTIC...  \n",
      "298433  MINISTER OF STATE IN THE MINISTRY OF RAILWAYS ...  \n",
      "298434  MINISTER OF STATE IN THE MINISTRY OF RAILWAYS ...  \n",
      "298435  MINISTER OF STATE IN THE MINISTRY OF RAILWAYS ...  \n",
      "298436  ANSWER MINISTER OF STATE FOR LAW AND JUSTICE A...  \n",
      "\n",
      "[298437 rows x 4 columns]\n"
     ]
    }
   ],
   "source": [
    "import pandas as pd\n",
    "\n",
    "json_file_path = 'Qna.json'\n",
    "\n",
    "# Read JSON file into a Pandas DataFrame\n",
    "df = pd.read_json(json_file_path)\n",
    "\n",
    "# Display the DataFrame\n",
    "print(df)"
   ]
  },
  {
   "cell_type": "code",
   "execution_count": 4,
   "id": "27a1c9ba",
   "metadata": {},
   "outputs": [],
   "source": [
    "import numpy as np\n",
    "import glob\n",
    "\n",
    "#Gensim\n",
    "import gensim\n",
    "import gensim.corpora as corpora\n",
    "from gensim.utils import simple_preprocess\n",
    "from gensim.models import CoherenceModel\n",
    "\n",
    "#spacy\n",
    "import spacy\n",
    "from nltk.corpus import stopwords\n",
    "\n",
    "#vis\n",
    "import pyLDAvis\n",
    "import pyLDAvis.gensim\n",
    "\n",
    "import warnings\n",
    "warnings.filterwarnings(\"ignore\", category=DeprecationWarning)"
   ]
  },
  {
   "cell_type": "code",
   "execution_count": 5,
   "id": "359a87c3",
   "metadata": {},
   "outputs": [],
   "source": [
    "def load_data(file):\n",
    "    with open (file, \"r\", encoding=\"utf-8\") as f:\n",
    "        data = json.load(f) \n",
    "    return (data)\n",
    "\n",
    "def write_data(file, data):\n",
    "    with open (file, \"w\", encoding=\"utf-8\") as f:\n",
    "        json.dump(data, f, indent=4)"
   ]
  },
  {
   "cell_type": "code",
   "execution_count": 6,
   "id": "f37cb9f5",
   "metadata": {},
   "outputs": [],
   "source": [
    "stopwords = stopwords.words(\"english\")"
   ]
  },
  {
   "cell_type": "code",
   "execution_count": 7,
   "id": "48eb28be",
   "metadata": {},
   "outputs": [
    {
     "name": "stdout",
     "output_type": "stream",
     "text": [
      "['i', 'me', 'my', 'myself', 'we', 'our', 'ours', 'ourselves', 'you', \"you're\", \"you've\", \"you'll\", \"you'd\", 'your', 'yours', 'yourself', 'yourselves', 'he', 'him', 'his', 'himself', 'she', \"she's\", 'her', 'hers', 'herself', 'it', \"it's\", 'its', 'itself', 'they', 'them', 'their', 'theirs', 'themselves', 'what', 'which', 'who', 'whom', 'this', 'that', \"that'll\", 'these', 'those', 'am', 'is', 'are', 'was', 'were', 'be', 'been', 'being', 'have', 'has', 'had', 'having', 'do', 'does', 'did', 'doing', 'a', 'an', 'the', 'and', 'but', 'if', 'or', 'because', 'as', 'until', 'while', 'of', 'at', 'by', 'for', 'with', 'about', 'against', 'between', 'into', 'through', 'during', 'before', 'after', 'above', 'below', 'to', 'from', 'up', 'down', 'in', 'out', 'on', 'off', 'over', 'under', 'again', 'further', 'then', 'once', 'here', 'there', 'when', 'where', 'why', 'how', 'all', 'any', 'both', 'each', 'few', 'more', 'most', 'other', 'some', 'such', 'no', 'nor', 'not', 'only', 'own', 'same', 'so', 'than', 'too', 'very', 's', 't', 'can', 'will', 'just', 'don', \"don't\", 'should', \"should've\", 'now', 'd', 'll', 'm', 'o', 're', 've', 'y', 'ain', 'aren', \"aren't\", 'couldn', \"couldn't\", 'didn', \"didn't\", 'doesn', \"doesn't\", 'hadn', \"hadn't\", 'hasn', \"hasn't\", 'haven', \"haven't\", 'isn', \"isn't\", 'ma', 'mightn', \"mightn't\", 'mustn', \"mustn't\", 'needn', \"needn't\", 'shan', \"shan't\", 'shouldn', \"shouldn't\", 'wasn', \"wasn't\", 'weren', \"weren't\", 'won', \"won't\", 'wouldn', \"wouldn't\"]\n"
     ]
    }
   ],
   "source": [
    "print (stopwords)"
   ]
  },
  {
   "cell_type": "code",
   "execution_count": 22,
   "id": "0202917b",
   "metadata": {},
   "outputs": [
    {
     "name": "stdout",
     "output_type": "stream",
     "text": [
      "(a) whether the Government proposed to revoke the suspension imposed on the Leave Travel Concession \n"
     ]
    }
   ],
   "source": [
    "data = load_data(\"Qna.json\")[3]\n",
    "print (data[\"question_text\"][0:100])    \n"
   ]
  },
  {
   "cell_type": "code",
   "execution_count": 25,
   "id": "74f3c632",
   "metadata": {},
   "outputs": [
    {
     "name": "stdout",
     "output_type": "stream",
     "text": [
      "\n"
     ]
    }
   ],
   "source": [
    "def lemmatization(texts, allowed_postags=[\"NOUN\", \"ADJ\", \"VERB\", \"ADV\"]):\n",
    "    nlp = spacy.load(\"en_core_web_sm\", disable=[\"parser\", \"ner\"])\n",
    "    texts_out = []\n",
    "    for text in texts:\n",
    "        doc = nlp(text)\n",
    "        new_text = []\n",
    "        for token in doc:\n",
    "            if token.pos_ in allowed_postags:\n",
    "                new_text.append(token.lemma_)\n",
    "        final = \" \".join(new_text)\n",
    "        texts_out.append(final)\n",
    "    return (texts_out)\n",
    "\n",
    "\n",
    "lemmatized_texts = lemmatization(data)\n",
    "print (lemmatized_texts[0][0:100])"
   ]
  },
  {
   "cell_type": "code",
   "execution_count": null,
   "id": "2ad2e7d9",
   "metadata": {},
   "outputs": [],
   "source": []
  }
 ],
 "metadata": {
  "kernelspec": {
   "display_name": "Python 3 (ipykernel)",
   "language": "python",
   "name": "python3"
  },
  "language_info": {
   "codemirror_mode": {
    "name": "ipython",
    "version": 3
   },
   "file_extension": ".py",
   "mimetype": "text/x-python",
   "name": "python",
   "nbconvert_exporter": "python",
   "pygments_lexer": "ipython3",
   "version": "3.11.4"
  }
 },
 "nbformat": 4,
 "nbformat_minor": 5
}
